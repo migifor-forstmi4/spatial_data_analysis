{
 "cells": [
  {
   "attachments": {},
   "cell_type": "markdown",
   "id": "d56d0b36",
   "metadata": {},
   "source": [
    "# Nearest neighbor analysis"
   ]
  },
  {
   "attachments": {},
   "cell_type": "markdown",
   "id": "5ff5a78a",
   "metadata": {},
   "source": [
    "## Libraries and settings"
   ]
  },
  {
   "cell_type": "code",
   "execution_count": null,
   "id": "54522af5",
   "metadata": {},
   "outputs": [],
   "source": [
    "# Install specific version of scipy\n",
    "\n",
    "# Libraries\n",
    "import folium\n",
    "import platform\n",
    "import pandas as pd\n",
    "import seaborn as sns\n",
    "import geopandas as gdp\n",
    "import matplotlib.pyplot as plt\n",
    "\n",
    "# Ignore warnings\n",
    "import warnings\n",
    "warnings.filterwarnings('ignore')\n",
    "\n",
    "# Import functions to calculate nearest-neighbors\n",
    "import nn_functions as nn"
   ]
  },
  {
   "attachments": {},
   "cell_type": "markdown",
   "id": "011e7456",
   "metadata": {},
   "source": [
    "## Prepare geodataframe of apartments data"
   ]
  },
  {
   "cell_type": "code",
   "execution_count": null,
   "id": "4465afa2",
   "metadata": {},
   "outputs": [],
   "source": [
    "# Read apartments data\n",
    "df_app = pd.read_csv('apartments_data_enriched.csv', \n",
    "                      sep=',', \n",
    "                      encoding='utf-8')[['web-scraper-order', \n",
    "                                         'lat', \n",
    "                                         'lon',\n",
    "                                         'address_raw',\n",
    "                                         'bfs_number',\n",
    "                                         'bfs_name']]\n",
    "\n",
    "# Convert data frame of apartments data to geodataframe\n",
    "df_app_geo = gdp.GeoDataFrame(df_app, \n",
    "                        geometry=gdp.points_from_xy(df_app['lon'], \n",
    "                                                    df_app['lat']))\n",
    "\n",
    "# Set Coordinate Reference System (CRS)\n",
    "df_app_geo.set_crs(4326, allow_override=True)\n",
    "df_app_geo.head()"
   ]
  },
  {
   "attachments": {},
   "cell_type": "markdown",
   "id": "7cd705ea",
   "metadata": {},
   "source": [
    "## Prepare geodataframe of supermarkets data"
   ]
  },
  {
   "cell_type": "code",
   "execution_count": null,
   "id": "175a4fa6",
   "metadata": {},
   "outputs": [],
   "source": [
    "# Read supermarket data and select those with know brand\n",
    "df_sup = pd.read_csv('supermarkets_data_enriched.csv', \n",
    "                     sep=',', \n",
    "                     encoding='utf-8')[['id', \n",
    "                                        'lat', \n",
    "                                        'lon',\n",
    "                                        'brand',\n",
    "                                        'bfs_number',\n",
    "                                        'bfs_name']].dropna()\n",
    "print(df_sup.shape)\n",
    "\n",
    "# Convert data frame of apartments data to geodataframe\n",
    "df_sup_geo = gdp.GeoDataFrame(df_sup, \n",
    "                       geometry=gdp.points_from_xy(df_sup['lon'], \n",
    "                                                   df_sup['lat']))\n",
    "\n",
    "# Set Coordinate Reference System (CRS)\n",
    "df_sup_geo.set_crs(4326, allow_override=True)\n",
    "df_sup_geo.head()\n",
    "\n",
    "# Subset (example)\n",
    "# df_sup_geo = df_sup_geo[df_sup_geo['brand'] == 'Migros']\n",
    "\n",
    "# Alternatively, subset of two brands (example)\n",
    "# df_sup_geo = df_sup_geo[df_sup_geo['brand'].isin(['Migros', 'Coop'])]\n",
    "\n",
    "df_sup_geo.head()"
   ]
  },
  {
   "attachments": {},
   "cell_type": "markdown",
   "id": "506b7088",
   "metadata": {},
   "source": [
    "## Identify closest supermarkets per apartment and calculate its distance"
   ]
  },
  {
   "cell_type": "code",
   "execution_count": null,
   "id": "ed404d03",
   "metadata": {},
   "outputs": [],
   "source": [
    "# Closest supermarket of each apartment\n",
    "closest_supermarkets = nn.nearest_neighbor(df_app_geo, \n",
    "                                           df_sup_geo, \n",
    "                                           return_dist=True)\n",
    "\n",
    "print(len(closest_supermarkets), '==', len(df_app_geo))\n",
    "\n",
    "# Rename the geometry of closest stops gdf so that we can easily identify it\n",
    "closest_supermarkets = closest_supermarkets.rename(columns={'geometry': 'closest_sup_geom'})\n",
    "closest_supermarkets.head()"
   ]
  },
  {
   "attachments": {},
   "cell_type": "markdown",
   "id": "9d32a995",
   "metadata": {},
   "source": [
    "## Merge closest supermarkets to apartments"
   ]
  },
  {
   "cell_type": "code",
   "execution_count": null,
   "id": "6af33ae2",
   "metadata": {},
   "outputs": [],
   "source": [
    "# Merge supermarkets to apartments\n",
    "result = pd.merge(closest_supermarkets, \n",
    "                  df_app_geo, \n",
    "                  left_index=True, \n",
    "                  right_index=True)[['web-scraper-order',\n",
    "                                     'address_raw',\n",
    "                                     'lat_y',\n",
    "                                     'lon_y',\n",
    "                                     'id',\n",
    "                                     'brand',\n",
    "                                     'geometry',\n",
    "                                     'closest_sup_geom',\n",
    "                                     'distance']]\n",
    "\n",
    "# Rename columns\n",
    "results = result.rename(columns={'lat_y': 'lat',\n",
    "                                 'lon_y': 'lon'},\n",
    "                        inplace = True)\n",
    "result.head()"
   ]
  },
  {
   "attachments": {},
   "cell_type": "markdown",
   "id": "a4145341",
   "metadata": {},
   "source": [
    "## Summary statistics of distance to closest supermarkets"
   ]
  },
  {
   "cell_type": "code",
   "execution_count": null,
   "id": "071c30bc",
   "metadata": {},
   "outputs": [],
   "source": [
    "result['distance'].describe()"
   ]
  },
  {
   "attachments": {},
   "cell_type": "markdown",
   "id": "1d88eac2",
   "metadata": {},
   "source": [
    "## Boxplot of distance to closest supermarkets"
   ]
  },
  {
   "cell_type": "code",
   "execution_count": null,
   "id": "f7a3476a",
   "metadata": {},
   "outputs": [],
   "source": [
    "plt.figure(figsize=(8,1.2))\n",
    "plt.ticklabel_format(style='plain')\n",
    "sns.boxplot(x=result['distance'], \n",
    "            color=\"greenyellow\")"
   ]
  },
  {
   "attachments": {},
   "cell_type": "markdown",
   "id": "61f6a021",
   "metadata": {},
   "source": [
    "## Plotting map with apartments and nearest supermarkets"
   ]
  },
  {
   "cell_type": "code",
   "execution_count": null,
   "id": "34bf8f3b",
   "metadata": {},
   "outputs": [],
   "source": [
    "# Polygonmap als .json-File (WGS84)\n",
    "polys = gdp.read_file(\"GEN_A4_GEMEINDEN_2019_epsg4326.json\")\n",
    "\n",
    "# Marker symbols\n",
    "url_01 = 'https://raw.githubusercontent.com/pointhi/leaflet-color-markers/master/img/marker-icon-blue.png'\n",
    "url_02 = 'https://raw.githubusercontent.com/pointhi/leaflet-color-markers/master/img/marker-icon-gold.png'\n",
    "\n",
    "# Initialisierung der Map\n",
    "m = folium.Map(location=[47.44, 8.65], \n",
    "               # tiles='Stamen Toner', \n",
    "               zoom_start=11)\n",
    "\n",
    "# Plot Polygonmap of municipalities\n",
    "folium.Choropleth(\n",
    "    geo_data=polys,\n",
    "    name='polys',\n",
    "    fill_color='transparent',\n",
    "    line_color='darkred').add_to(m)\n",
    "\n",
    "# Add lat/lon of apartments\n",
    "for i in range(0, len(result)):\n",
    "    folium.Marker(location=(result.iloc[i]['lat'],  \n",
    "                            result.iloc[i]['lon']), \n",
    "                  popup=result.iloc[i]['address_raw'],\n",
    "                  icon=folium.features.CustomIcon(url_01,icon_size=(14, 23))).add_to(m)\n",
    "    \n",
    "# Add lat/lon of apartments\n",
    "for i in range(0, len(closest_supermarkets)):\n",
    "    folium.Marker(location=(closest_supermarkets.iloc[i]['lat'],  \n",
    "                            closest_supermarkets.iloc[i]['lon']), \n",
    "                  popup=closest_supermarkets.iloc[i]['brand'],\n",
    "                  icon=folium.features.CustomIcon(url_02,icon_size=(14, 23))).add_to(m)\n",
    "\n",
    "# Layer control\n",
    "folium.LayerControl().add_to(m)\n",
    "\n",
    "# Plot map\n",
    "m"
   ]
  },
  {
   "attachments": {},
   "cell_type": "markdown",
   "id": "2f98a338",
   "metadata": {},
   "source": [
    "## Save data to file"
   ]
  },
  {
   "cell_type": "code",
   "execution_count": null,
   "id": "69ae2a96",
   "metadata": {},
   "outputs": [],
   "source": [
    "result.to_csv('apartments_data_with_supermarkets.csv', \n",
    "              sep=\",\", \n",
    "              encoding='utf-8',\n",
    "              index=False)"
   ]
  },
  {
   "attachments": {},
   "cell_type": "markdown",
   "id": "5d90a572",
   "metadata": {},
   "source": [
    "### Jupyter notebook --footer info-- (please always provide this at the end of each notebook)"
   ]
  },
  {
   "cell_type": "code",
   "execution_count": null,
   "id": "ce2e1280",
   "metadata": {},
   "outputs": [],
   "source": [
    "import os\n",
    "import platform\n",
    "import socket\n",
    "from platform import python_version\n",
    "from datetime import datetime\n",
    "\n",
    "print('-----------------------------------')\n",
    "print(os.name.upper())\n",
    "print(platform.system(), '|', platform.release())\n",
    "print('Datetime:', datetime.now().strftime(\"%Y-%m-%d %H:%M:%S\"))\n",
    "print('Python Version:', python_version())\n",
    "print('-----------------------------------')"
   ]
  }
 ],
 "metadata": {
  "kernelspec": {
   "display_name": "gisenv",
   "language": "python",
   "name": "python3"
  },
  "language_info": {
   "codemirror_mode": {
    "name": "ipython",
    "version": 3
   },
   "file_extension": ".py",
   "mimetype": "text/x-python",
   "name": "python",
   "nbconvert_exporter": "python",
   "pygments_lexer": "ipython3",
   "version": "3.11.9"
  }
 },
 "nbformat": 4,
 "nbformat_minor": 5
}

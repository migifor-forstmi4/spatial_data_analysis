{
 "cells": [
  {
   "attachments": {},
   "cell_type": "markdown",
   "id": "0adc758e",
   "metadata": {},
   "source": [
    "# Catchment area analysis of supermarkets"
   ]
  },
  {
   "attachments": {},
   "cell_type": "markdown",
   "id": "7284142e",
   "metadata": {},
   "source": [
    "## Libraries and settings"
   ]
  },
  {
   "cell_type": "code",
   "execution_count": null,
   "id": "5963ee1a",
   "metadata": {},
   "outputs": [],
   "source": [
    "# Libraries\n",
    "import os\n",
    "import time\n",
    "import glob\n",
    "import json\n",
    "import folium\n",
    "import requests\n",
    "import platform\n",
    "import numpy as np\n",
    "import pandas as pd\n",
    "import geopandas as gdp\n",
    "import matplotlib.pyplot as plt\n",
    "from openrouteservice import client\n",
    "from IPython.display import clear_output\n",
    "\n",
    "# Read OpenRouteService API key\n",
    "with open(file='ors_token.txt', mode='r') as file:\n",
    "    api_key = file.read()\n",
    "# print(api_key)\n",
    "\n",
    "# Ignore warnings\n",
    "import warnings\n",
    "warnings.filterwarnings('ignore')"
   ]
  },
  {
   "cell_type": "markdown",
   "id": "c9f2fe70",
   "metadata": {},
   "source": [
    "## Create isochrone for a defined location"
   ]
  },
  {
   "cell_type": "code",
   "execution_count": null,
   "id": "8d13958f",
   "metadata": {},
   "outputs": [],
   "source": [
    "# Client settings\n",
    "ors = client.Client(key=api_key)\n",
    "\n",
    "# Settings\n",
    "transport = 'driving-car'  # 'driving-car', 'foot-walking', 'cycling-regular'\n",
    "traveltime = 15  # in minutes\n",
    "\n",
    "# Location (lat, lon)\n",
    "location = (47.37445, 8.54104)\n",
    "\n",
    "# Parameters for server-request\n",
    "params_iso = {\n",
    "    'locations': [(location[1], location[0])],  # (lon, lat)\n",
    "    'profile': transport,\n",
    "    'range': [traveltime * 60],  # in seconds\n",
    "    'attributes': ['total_pop']\n",
    "}\n",
    "\n",
    "# Server request\n",
    "isochrone = ors.isochrones(**params_iso)\n",
    "\n",
    "# Set up folium map\n",
    "map = folium.Map(tiles='openstreetmap', \n",
    "                 location=location, \n",
    "                 zoom_start=11)\n",
    "\n",
    "# Add isochrone to the map\n",
    "folium.GeoJson(isochrone).add_to(map)\n",
    "\n",
    "# Display the map in a Jupyter Notebook (if applicable)\n",
    "map"
   ]
  },
  {
   "attachments": {},
   "cell_type": "markdown",
   "id": "6933340b",
   "metadata": {},
   "source": [
    "## Import supermarket data"
   ]
  },
  {
   "cell_type": "code",
   "execution_count": null,
   "id": "3fb02fe1",
   "metadata": {},
   "outputs": [],
   "source": [
    "# Import supermarket data\n",
    "df_orig = pd.read_csv('supermarkets_data_enriched.csv', \n",
    "                      sep=',',\n",
    "                      encoding='utf-8')[['id',\n",
    "                                         'lat',\n",
    "                                         'lon',\n",
    "                                         'brand',\n",
    "                                         'bfs_number',\n",
    "                                         'bfs_name',\n",
    "                                         'addr:housenumber',\n",
    "                                         'addr:postcode',\n",
    "                                         'geometry']]\n",
    "\n",
    "# Subset, only supermarkets with complete address\n",
    "df = df_orig.dropna()\n",
    "print(df.shape)\n",
    "df.head()"
   ]
  },
  {
   "attachments": {},
   "cell_type": "markdown",
   "id": "9c18779d",
   "metadata": {},
   "source": [
    "## Create isochrone for a single supermarket"
   ]
  },
  {
   "cell_type": "code",
   "execution_count": null,
   "id": "8128146d",
   "metadata": {},
   "outputs": [],
   "source": [
    "# Settings\n",
    "municip = 'Adliswil'\n",
    "transport = 'driving-car'  # 'driving-car', 'foot-walking', 'cycling-regular'\n",
    "traveltime = 15\n",
    "\n",
    "# Client settings\n",
    "ors = client.Client(key=api_key)\n",
    "\n",
    "# Set up supermarket dictionary with a single supermarket\n",
    "df_sub = df.loc[df['bfs_name'] == municip].iloc[0]\n",
    "supermarkets = {df_sub['brand']: {'location': [df_sub['lon'], \n",
    "                                               df_sub['lat']]}}\n",
    "print(supermarkets)\n",
    "\n",
    "# Set up folium map\n",
    "map = folium.Map(tiles='openstreetmap', \n",
    "                 location=([df_sub['lat'], \n",
    "                            df_sub['lon']]), \n",
    "                 zoom_start=11)\n",
    "\n",
    "# Parameters for server-request\n",
    "params_iso = {'profile': transport,\n",
    "              'range': [traveltime*60],\n",
    "              'attributes': ['total_pop']}\n",
    "\n",
    "# Server request\n",
    "for name, apt in supermarkets.items():\n",
    "    \n",
    "    # Add coords to request parameters\n",
    "    params_iso['locations'] = [apt['location']]\n",
    "    \n",
    "    # Perform isochrone request\n",
    "    apt['iso'] = ors.isochrones(**params_iso)\n",
    "    \n",
    "    # Add GeoJson to map\n",
    "    folium.features.GeoJson(apt['iso']).add_to(map)\n",
    "    \n",
    "    # Save GeoJson as file\n",
    "    # with open(f'{name}.json', 'w') as f:\n",
    "        # f.write(json.dumps(apt['iso']))\n",
    "\n",
    "    # Reverse coords due to weird folium lat/lon syntax\n",
    "    folium.map.Marker(list(reversed(apt['location'])),\n",
    "                      icon = folium.Icon(color='green',\n",
    "                                         icon_color='#cc0000',\n",
    "                                         icon='home',\n",
    "                                         prefix=\"fa\"),\n",
    "                      popup = name\n",
    "                      ).add_to(map)\n",
    "\n",
    "# Plot map\n",
    "map"
   ]
  },
  {
   "attachments": {},
   "cell_type": "markdown",
   "id": "29a2359f",
   "metadata": {},
   "source": [
    "## Getting the number of residents in the isochrone area"
   ]
  },
  {
   "cell_type": "code",
   "execution_count": null,
   "id": "6318f539",
   "metadata": {},
   "outputs": [],
   "source": [
    "# Save the data as pandas data frame\n",
    "data = pd.DataFrame(apt['iso'][\"features\"])\n",
    "\n",
    "# Create data frame from column 'properties'\n",
    "df_pop = pd.DataFrame(data.loc[0, 'properties'])\n",
    "val = df_pop['total_pop'][0]\n",
    "print('Number of residents in isochrone area:', f'{val:,.0f}')"
   ]
  },
  {
   "attachments": {},
   "cell_type": "markdown",
   "id": "404507b3",
   "metadata": {},
   "source": [
    "## Estimating the purchasing power in the isochrone area"
   ]
  },
  {
   "cell_type": "code",
   "execution_count": null,
   "id": "b680534b",
   "metadata": {},
   "outputs": [],
   "source": [
    "# Simple assumtions:\n",
    "# 500 CHF per resident and month\n",
    "# Residents / employee ratio = 2:1\n",
    "# 20 CHF per employee and working day\n",
    "\n",
    "# Result\n",
    "val = ((df_pop['total_pop'][0] * 500) + (df_pop['total_pop'][0] * 0.5 * 20 * 20)) / 10**6\n",
    "print('Purchasing power per month:',\n",
    "      f'{val:.1f}',\n",
    "     'Mio. CHF')"
   ]
  },
  {
   "attachments": {},
   "cell_type": "markdown",
   "id": "9f69357d",
   "metadata": {},
   "source": [
    "## Automization of the analysis for multiple of supermarkets"
   ]
  },
  {
   "cell_type": "code",
   "execution_count": null,
   "id": "6d848358",
   "metadata": {},
   "outputs": [],
   "source": [
    "# Client settings\n",
    "ors = client.Client(key=api_key)\n",
    "\n",
    "# Parameters for server-request\n",
    "params_iso = {'profile': 'driving-car',\n",
    "              'range': [15*60],\n",
    "              'attributes': ['total_pop']}\n",
    "\n",
    "# Df to store the data\n",
    "pop_out = []\n",
    "\n",
    "try:\n",
    "    for i in range(0, 10):\n",
    "        \n",
    "        print('Preparing isochrone for supermarkt', df[['id', \n",
    "                                                        'brand', \n",
    "                                                        'bfs_name', \n",
    "                                                        'addr:housenumber',\n",
    "                                                        'addr:postcode']].iloc[i])\n",
    "        \n",
    "        supermarkets = {df['brand'].iloc[i]: {'location': [df['lon'].iloc[i],\n",
    "                                                           df['lat'].iloc[i]]}}\n",
    "        # Server request\n",
    "        for name, apt in supermarkets.items():\n",
    "            \n",
    "            # Add coords to request parameters\n",
    "            params_iso['locations'] = [apt['location']]\n",
    "            \n",
    "            # Perform isochrone request\n",
    "            apt['iso'] = ors.isochrones(**params_iso)\n",
    "            time.sleep(1)\n",
    "            \n",
    "            # Save the data as pandas data frame\n",
    "            data = pd.DataFrame(apt['iso'][\"features\"])\n",
    "            \n",
    "            # Create data frame from column 'properties'\n",
    "            df_pop = pd.DataFrame(data.loc[0, 'properties'])\n",
    "            \n",
    "            # Write values\n",
    "            pop_out.append([df['id'].iloc[i], \n",
    "                            df['brand'].iloc[i],\n",
    "                            df['bfs_number'].iloc[i], \n",
    "                            df['bfs_name'].iloc[i], \n",
    "                            df['addr:housenumber'].iloc[i],\n",
    "                            df['addr:postcode'].iloc[i],\n",
    "                            df_pop['total_pop'][0],\n",
    "                            ((df_pop['total_pop'][0] * 500) + (df_pop['total_pop'][0] * 0.5 * 20 * 20)) / 10**6])\n",
    "            clear_output(wait=True)\n",
    "            \n",
    "except:\n",
    "    pop_out.append([df['id'].iloc[i], \n",
    "                    df['brand'].iloc[i],\n",
    "                    df['bfs_number'].iloc[i], \n",
    "                    df['bfs_name'].iloc[i], \n",
    "                    df['addr:housenumber'].iloc[i],\n",
    "                    df['addr:postcode'].iloc[i],\n",
    "                    np.NaN,\n",
    "                    np.NaN])\n",
    "    clear_output(wait=True)\n",
    "\n",
    "# Convert the list to a DataFrame\n",
    "columns = ['id', 'brand', 'bfs_number', 'bfs_name', 'addr:housenumber', 'addr:postcode', 'total_pop', 'purchasing_power']\n",
    "df_result = pd.DataFrame(pop_out, columns=columns)\n",
    "\n",
    "# Display the DataFrame\n",
    "df_result\n"
   ]
  },
  {
   "attachments": {},
   "cell_type": "markdown",
   "id": "e62379c8",
   "metadata": {},
   "source": [
    "### Jupyter notebook --footer info-- (please always provide this at the end of each notebook)"
   ]
  },
  {
   "cell_type": "code",
   "execution_count": null,
   "id": "7e10aeab",
   "metadata": {},
   "outputs": [],
   "source": [
    "import os\n",
    "import platform\n",
    "import socket\n",
    "from platform import python_version\n",
    "from datetime import datetime\n",
    "\n",
    "print('-----------------------------------')\n",
    "print(os.name.upper())\n",
    "print(platform.system(), '|', platform.release())\n",
    "print('Datetime:', datetime.now().strftime(\"%Y-%m-%d %H:%M:%S\"))\n",
    "print('Python Version:', python_version())\n",
    "print('-----------------------------------')"
   ]
  }
 ],
 "metadata": {
  "kernelspec": {
   "display_name": "gisenv",
   "language": "python",
   "name": "python3"
  },
  "language_info": {
   "codemirror_mode": {
    "name": "ipython",
    "version": 3
   },
   "file_extension": ".py",
   "mimetype": "text/x-python",
   "name": "python",
   "nbconvert_exporter": "python",
   "pygments_lexer": "ipython3",
   "version": "3.11.9"
  }
 },
 "nbformat": 4,
 "nbformat_minor": 5
}
